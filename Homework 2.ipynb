{
 "cells": [
  {
   "cell_type": "code",
   "execution_count": 1,
   "id": "67167486",
   "metadata": {},
   "outputs": [
    {
     "data": {
      "text/plain": [
       "240"
      ]
     },
     "execution_count": 1,
     "metadata": {},
     "output_type": "execute_result"
    }
   ],
   "source": [
    "f = open(\"HW2.fas\", \"r\")\n",
    "data = f.readlines()\n",
    "len(data)"
   ]
  },
  {
   "cell_type": "code",
   "execution_count": 2,
   "id": "31d6d54f",
   "metadata": {},
   "outputs": [],
   "source": [
    "labels = []\n",
    "sequences = []\n",
    "for i in range(len(data)):\n",
    "    if i%2 == 0:\n",
    "        labels.append(data[i][1:-1])\n",
    "    else:\n",
    "        sequences.append(data[i][:-1])"
   ]
  },
  {
   "cell_type": "code",
   "execution_count": 3,
   "id": "5923e697",
   "metadata": {},
   "outputs": [],
   "source": [
    "def hamming_distance(seq1:str, seq2: str):\n",
    "    output = 0;\n",
    "    for i in range(len(seq1)):\n",
    "        if seq1[i]!=seq2[i]:\n",
    "            output +=1\n",
    "    return output"
   ]
  },
  {
   "cell_type": "code",
   "execution_count": 4,
   "id": "4f1d6f91",
   "metadata": {},
   "outputs": [],
   "source": [
    "import numpy as np\n",
    "def get_hamming_distance(labels:list):\n",
    "    output = []\n",
    "    for seq1 in labels:\n",
    "        temp = []\n",
    "        for seq2 in labels:\n",
    "            temp.append(hamming_distance(seq1, seq2))\n",
    "        output.append(temp)\n",
    "    return np.array(output)"
   ]
  },
  {
   "cell_type": "code",
   "execution_count": 5,
   "id": "2fcb02b8",
   "metadata": {},
   "outputs": [],
   "source": [
    "distances = get_hamming_distance(sequences)"
   ]
  },
  {
   "cell_type": "code",
   "execution_count": 6,
   "id": "dd056676",
   "metadata": {},
   "outputs": [
    {
     "data": {
      "text/plain": [
       "array([[ 0,  1,  1, ..., 76, 74, 79],\n",
       "       [ 1,  0,  2, ..., 77, 75, 80],\n",
       "       [ 1,  2,  0, ..., 77, 75, 80],\n",
       "       ...,\n",
       "       [76, 77, 77, ...,  0,  4, 28],\n",
       "       [74, 75, 75, ...,  4,  0, 28],\n",
       "       [79, 80, 80, ..., 28, 28,  0]])"
      ]
     },
     "execution_count": 6,
     "metadata": {},
     "output_type": "execute_result"
    }
   ],
   "source": [
    "distances"
   ]
  },
  {
   "cell_type": "code",
   "execution_count": 7,
   "id": "4fc18aa0",
   "metadata": {},
   "outputs": [],
   "source": [
    "from sklearn.manifold import MDS"
   ]
  },
  {
   "cell_type": "code",
   "execution_count": 8,
   "id": "0ad3a3af",
   "metadata": {},
   "outputs": [],
   "source": [
    "mds = MDS(random_state=0, dissimilarity='precomputed')\n",
    "mds_matrix = mds.fit_transform(distances)"
   ]
  },
  {
   "cell_type": "code",
   "execution_count": 9,
   "id": "3ea7d5c2",
   "metadata": {},
   "outputs": [],
   "source": [
    "import matplotlib.pyplot as plt"
   ]
  },
  {
   "cell_type": "code",
   "execution_count": 10,
   "id": "99fd4d05",
   "metadata": {},
   "outputs": [
    {
     "data": {
      "image/png": "[encoded data removed]",
      "text/plain": [
       "<Figure size 300x300 with 1 Axes>"
      ]
     },
     "metadata": {},
     "output_type": "display_data"
    }
   ],
   "source": [
    "plt.figure(figsize = (3,3))\n",
    "plt.scatter(mds_matrix[:,0], mds_matrix[:,1])\n",
    "plt.show()"
   ]
  },
  {
   "cell_type": "code",
   "execution_count": 11,
   "id": "289d0b4e",
   "metadata": {},
   "outputs": [],
   "source": [
    "from sklearn.cluster import KMeans"
   ]
  },
  {
   "cell_type": "code",
   "execution_count": 12,
   "id": "12993dad",
   "metadata": {},
   "outputs": [],
   "source": [
    "model = KMeans(n_clusters=8).fit(mds_matrix)"
   ]
  },
  {
   "cell_type": "code",
   "execution_count": 13,
   "id": "10115104",
   "metadata": {},
   "outputs": [
    {
     "data": {
      "image/png": "[encoded data removed]",
      "text/plain": [
       "<Figure size 500x500 with 1 Axes>"
      ]
     },
     "metadata": {},
     "output_type": "display_data"
    }
   ],
   "source": [
    "plt.figure(figsize=(5,5))\n",
    "plt.scatter(mds_matrix[:,0], mds_matrix[:,1], c = model.labels_.astype(float))\n",
    "plt.show()"
   ]
  },
  {
   "cell_type": "code",
   "execution_count": 82,
   "id": "d174fb16",
   "metadata": {},
   "outputs": [
    {
     "data": {
      "text/plain": [
       "191"
      ]
     },
     "execution_count": 82,
     "metadata": {},
     "output_type": "execute_result"
    }
   ],
   "source": [
    "pop = [2.68,13.03,6.17,3.4,2.3,8.91,12.13,12.6,15.88,19.87,7.29,9.08,3.36,6.82,13.57,15.93,19.21,4.53,2.39,6.6,5.71,16.22,5.56,9.21,5.9,20.06,3.16,3.06,5.48,4.59,3.11,18.98,3.35,2.43,11.81,12.34,8.39,4.08,2.47,3.2,8.76,21.06,15.8,16.52,12.97,20.23,19.91,3.97,6.29,8.15,4.44,7.6,3.92,4,21,3.83,3.38,7.34,22.26,20.46,3.98,3.81,16.85,22.99,4.44,22.43,10.89,9.54,4.7,3.91,3.08,7.01,4.33,5.4,18.48,20.69,15.47,6.72,7.82,5.87,3.33,13.82,11.96,22.08,2.85,9.17,29.18,3.67,8.43,3.07,9.75,16.74,2.92,5.8,4.13,20.5,7.96,5.6,2.83,4.04,20.45,15.37,12.56,14.17,3.47,2.68,6.9,4.81,3.02,21.3,3.92,11.08,7.67,4.95,14.03,4.78,16.02,7.11,2.93,6.04,3.9,5.69,19.82,15.54,5.82,2.68,3.3,17.43,3.68,4.44,3.62,9.01,4.64,7.88,8.05,6.18,18.72,20.92,21.77,1.19,17.58,15.53,2.65,6.18,2.87,3.63,3.1,20,8.27,3.7,10.89,17.05,21.23,4.51,2.27,6.09,2.53,18.49,10.63,13.1,10.72,3.03,6.55,20.59,18.73,4.46,3.63,3.08,11.82,4.06,3.57,6.83,12.11,8.86,15.72,8.35,5.38,2.38,17.03,1.9,16.85,18.48,14.71,5.87,4.39,8.18,6.91,19.82,2.8,2.27,4.52,]\n",
    "len(pop)"
   ]
  },
  {
   "cell_type": "code",
   "execution_count": 83,
   "id": "f854078f",
   "metadata": {},
   "outputs": [],
   "source": [
    "import pandas as pd"
   ]
  },
  {
   "cell_type": "code",
   "execution_count": 84,
   "id": "f845125d",
   "metadata": {},
   "outputs": [
    {
     "data": {
      "text/plain": [
       "250"
      ]
     },
     "execution_count": 84,
     "metadata": {},
     "output_type": "execute_result"
    }
   ],
   "source": [
    "len(countries)"
   ]
  },
  {
   "cell_type": "code",
   "execution_count": 198,
   "id": "d9647e6c",
   "metadata": {},
   "outputs": [],
   "source": [
    "data = pd.read_csv('hospital-beds-per-1000-people.csv')"
   ]
  },
  {
   "cell_type": "code",
   "execution_count": 199,
   "id": "f7537b08",
   "metadata": {},
   "outputs": [],
   "source": [
    "data[\"population\"] = pop"
   ]
  },
  {
   "cell_type": "code",
   "execution_count": 200,
   "id": "0d584e2c",
   "metadata": {},
   "outputs": [],
   "source": [
    "data.drop('Code', axis=1, inplace=True)"
   ]
  },
  {
   "cell_type": "code",
   "execution_count": 201,
   "id": "8e3fd8a1",
   "metadata": {},
   "outputs": [],
   "source": [
    "data.drop('Year', axis=1, inplace=True)"
   ]
  },
  {
   "cell_type": "code",
   "execution_count": 202,
   "id": "ea8d4505",
   "metadata": {},
   "outputs": [
    {
     "data": {
      "text/html": [
       "<div>\n",
       "<style scoped>\n",
       "    .dataframe tbody tr th:only-of-type {\n",
       "        vertical-align: middle;\n",
       "    }\n",
       "\n",
       "    .dataframe tbody tr th {\n",
       "        vertical-align: top;\n",
       "    }\n",
       "\n",
       "    .dataframe thead th {\n",
       "        text-align: right;\n",
       "    }\n",
       "</style>\n",
       "<table border=\"1\" class=\"dataframe\">\n",
       "  <thead>\n",
       "    <tr style=\"text-align: right;\">\n",
       "      <th></th>\n",
       "      <th>Entity</th>\n",
       "      <th>Hospital beds (per 1,000 people)</th>\n",
       "      <th>population</th>\n",
       "    </tr>\n",
       "  </thead>\n",
       "  <tbody>\n",
       "    <tr>\n",
       "      <th>0</th>\n",
       "      <td>Afghanistan</td>\n",
       "      <td>0.39</td>\n",
       "      <td>2.68</td>\n",
       "    </tr>\n",
       "    <tr>\n",
       "      <th>1</th>\n",
       "      <td>Albania</td>\n",
       "      <td>2.89</td>\n",
       "      <td>13.03</td>\n",
       "    </tr>\n",
       "    <tr>\n",
       "      <th>2</th>\n",
       "      <td>Algeria</td>\n",
       "      <td>1.90</td>\n",
       "      <td>6.17</td>\n",
       "    </tr>\n",
       "    <tr>\n",
       "      <th>3</th>\n",
       "      <td>Andorra</td>\n",
       "      <td>2.50</td>\n",
       "      <td>3.40</td>\n",
       "    </tr>\n",
       "    <tr>\n",
       "      <th>4</th>\n",
       "      <td>Angola</td>\n",
       "      <td>0.80</td>\n",
       "      <td>2.30</td>\n",
       "    </tr>\n",
       "    <tr>\n",
       "      <th>...</th>\n",
       "      <td>...</td>\n",
       "      <td>...</td>\n",
       "      <td>...</td>\n",
       "    </tr>\n",
       "    <tr>\n",
       "      <th>186</th>\n",
       "      <td>Venezuela</td>\n",
       "      <td>0.87</td>\n",
       "      <td>6.91</td>\n",
       "    </tr>\n",
       "    <tr>\n",
       "      <th>187</th>\n",
       "      <td>Vietnam</td>\n",
       "      <td>2.60</td>\n",
       "      <td>19.82</td>\n",
       "    </tr>\n",
       "    <tr>\n",
       "      <th>188</th>\n",
       "      <td>Yemen</td>\n",
       "      <td>0.71</td>\n",
       "      <td>2.80</td>\n",
       "    </tr>\n",
       "    <tr>\n",
       "      <th>189</th>\n",
       "      <td>Zambia</td>\n",
       "      <td>2.00</td>\n",
       "      <td>2.27</td>\n",
       "    </tr>\n",
       "    <tr>\n",
       "      <th>190</th>\n",
       "      <td>Zimbabwe</td>\n",
       "      <td>1.70</td>\n",
       "      <td>4.52</td>\n",
       "    </tr>\n",
       "  </tbody>\n",
       "</table>\n",
       "<p>191 rows × 3 columns</p>\n",
       "</div>"
      ],
      "text/plain": [
       "          Entity  Hospital beds (per 1,000 people)  population\n",
       "0    Afghanistan                              0.39        2.68\n",
       "1        Albania                              2.89       13.03\n",
       "2        Algeria                              1.90        6.17\n",
       "3        Andorra                              2.50        3.40\n",
       "4         Angola                              0.80        2.30\n",
       "..           ...                               ...         ...\n",
       "186    Venezuela                              0.87        6.91\n",
       "187      Vietnam                              2.60       19.82\n",
       "188        Yemen                              0.71        2.80\n",
       "189       Zambia                              2.00        2.27\n",
       "190     Zimbabwe                              1.70        4.52\n",
       "\n",
       "[191 rows x 3 columns]"
      ]
     },
     "execution_count": 202,
     "metadata": {},
     "output_type": "execute_result"
    }
   ],
   "source": [
    "data"
   ]
  },
  {
   "cell_type": "code",
   "execution_count": 203,
   "id": "33f0fbcb",
   "metadata": {},
   "outputs": [],
   "source": [
    "death = \"20.04 ,124.71 ,15.69 ,200.61 ,5.83 ,149.09 ,287.41 ,293.02 ,59.78 ,230.44 ,97.83 ,211.83 ,89.33 ,17.83 ,194.87 ,75.33 ,284.29 ,172.53 ,1.34 ,2.72 ,190.50 ,491.86 ,118.60 ,322.75 ,51.43 ,542.83 ,1.85 ,35.76 ,0.32 ,73.74 ,18.28 ,7.29 ,118.78 ,2.34 ,1.17 ,320.03 ,1.09 ,278.67 ,18.51 ,7.00 ,1.61 ,176.09 ,3.13 ,411.96 ,75.31 ,97.90 ,383.86 ,122.03 ,19.13 ,102.79 ,40.41 ,203.47 ,24.23 ,65.20 ,13.04 ,2.90 ,202.10 ,122.57 ,6.59 ,97.94 ,107.95 ,239.31 ,13.75 ,15.39 ,423.65 ,180.46 ,4.70 ,317.67 ,210.63 ,110.52 ,3.42 ,8.89 ,162.86 ,7.52 ,110.99 ,491.73 ,62.42 ,38.31 ,57.81 ,171.95 ,63.04 ,160.84 ,135.15 ,292.96 ,112.12 ,35.25 ,138.41 ,101.46 ,10.56 ,11.05,0.02 ,55.57 ,176.70 ,60.02 ,45.84, 10.42 ,317.78 ,156.43 ,32.96 ,5.81 ,93.68 ,225.50 ,342.36 ,180.36 ,5.09 ,14.02 ,112.38 ,56.98 ,3.66 ,182.54 ,29.10 ,21.40 ,80.68 ,258.33 ,27.24 ,294.06 ,160.53 ,65.00 ,442.95 ,44.10 ,7.11 ,160.57 ,41.25 ,135.93 ,42.12 ,3.70 ,1.29 ,1.53 ,457.62 ,75.59 ,90.63 ,13.86 ,33.32 ,196.93 ,7.47 ,274.67 ,656.85 ,57.47 ,310.72 ,245.48 ,23.67 ,348.42 ,260.07 ,11.32 ,86.48 ,214.02 ,104.55 ,14.79 ,347.69 ,35.13 ,26.87 ,11.75 ,194.70 ,171.85 ,1.58 ,27.67 ,376.45 ,328.29 ,23.44 ,8.56 ,172.29 ,1.23 ,244.21 ,78.28 ,11.31 ,236.09 ,200.26 ,161.87 ,18.07 ,1.31 ,1.41 ,46.95 ,10.47 ,3.44 ,11.35 ,300.61 ,247.48 ,119.92 ,321.61 ,7.94 ,267.62 ,23.71 ,305.79 ,215.47 ,4.89 ,4.78 ,20.45 ,12 ,7.23 ,21.85 ,37.69\"\n",
    "death = death.split(',')"
   ]
  },
  {
   "cell_type": "code",
   "execution_count": 204,
   "id": "8401a5c8",
   "metadata": {},
   "outputs": [],
   "source": [
    "rates = []\n",
    "for item in death:\n",
    "    item = float(item)\n",
    "    rates.append(item)"
   ]
  },
  {
   "cell_type": "code",
   "execution_count": 205,
   "id": "77847701",
   "metadata": {},
   "outputs": [
    {
     "data": {
      "text/plain": [
       "191"
      ]
     },
     "execution_count": 205,
     "metadata": {},
     "output_type": "execute_result"
    }
   ],
   "source": [
    "len(rates)"
   ]
  },
  {
   "cell_type": "code",
   "execution_count": 206,
   "id": "0e8f5f14",
   "metadata": {},
   "outputs": [],
   "source": [
    "data['death'] = rates"
   ]
  },
  {
   "cell_type": "code",
   "execution_count": 207,
   "id": "34a6b4f7",
   "metadata": {},
   "outputs": [],
   "source": [
    "y = data.death.to_numpy()\n"
   ]
  },
  {
   "cell_type": "code",
   "execution_count": 208,
   "id": "da2460c4",
   "metadata": {},
   "outputs": [],
   "source": [
    "features = data.drop(['death','Entity'], axis=1).to_numpy()"
   ]
  },
  {
   "cell_type": "code",
   "execution_count": 215,
   "id": "c7888dd8",
   "metadata": {},
   "outputs": [
    {
     "name": "stdout",
     "output_type": "stream",
     "text": [
      "[ 95.1468836  126.4940189  107.98370493 103.90680013  95.70115767\n",
      " 117.39754095 131.6431816  129.99629424 136.01479222 156.48013455\n",
      " 120.37933214 118.01075612 101.23583889 105.64680667 138.15278717\n",
      " 159.87873268 149.27994257 101.44030899  94.8804016  123.8852561\n",
      " 106.42436393 128.10001581 112.0400636  114.35584733 108.0332378\n",
      " 141.87950695 120.1980884   96.01986139 102.68824345 101.09703145\n",
      "  99.18865187 138.37358152 102.43711831 103.46426279 115.33883761\n",
      " 151.15419286 113.42892001 111.55893558  99.16887657] [2.0040e+01 1.2471e+02 1.5690e+01 2.0061e+02 5.8300e+00 1.4909e+02\n",
      " 2.8741e+02 2.9302e+02 5.9780e+01 2.3044e+02 9.7830e+01 2.1183e+02\n",
      " 8.9330e+01 1.7830e+01 1.9487e+02 7.5330e+01 2.8429e+02 1.7253e+02\n",
      " 1.3400e+00 2.7200e+00 1.9050e+02 4.9186e+02 1.1860e+02 3.2275e+02\n",
      " 5.1430e+01 5.4283e+02 1.8500e+00 3.5760e+01 3.2000e-01 7.3740e+01\n",
      " 1.8280e+01 7.2900e+00 1.1878e+02 2.3400e+00 1.1700e+00 3.2003e+02\n",
      " 1.0900e+00 2.7867e+02 1.8510e+01]\n",
      "[ 94.49102699 121.10269641 179.37486102 155.19604192 154.41644202\n",
      " 137.88528638 173.60544884 169.48956178  99.21611714 108.67159999\n",
      " 118.39501567  98.9952304  115.67776514  98.50258144  98.8465236\n",
      " 179.01151522  97.50357867  93.38410518 114.01679362 185.64463282\n",
      " 175.82247184  96.98513576  94.32077264 155.35284495 188.45477693\n",
      "  99.73295455 180.2264565  131.6910165  122.66451629 100.40488931\n",
      "  99.22568694  95.43434867 113.35602366 100.17205593 106.016685\n",
      " 167.60985793 174.56092207 148.28488275] [  7.     1.61 176.09   3.13 411.96  75.31  97.9  383.86 122.03  19.13\n",
      " 102.79  40.41 203.47  24.23  65.2   13.04   2.9  202.1  122.57   6.59\n",
      "  97.94 107.95 239.31  13.75  15.39 423.65 180.46   4.7  317.67 210.63\n",
      " 110.52   3.42   8.89 162.86   7.52 110.99 491.73  62.42]\n",
      "[117.27083973 104.46870262 101.47523741  96.53688793 130.66833969\n",
      " 136.19175058 170.85863542 106.27370846 117.65289945 267.14039103\n",
      "  97.05107107 146.37585692  94.49591663 120.64375866 145.83502619\n",
      " 115.65835196 104.54843505 127.57184545 163.65719311 110.49210788\n",
      "  98.82399635 106.63740264 134.03318519 174.50390102 164.59335574\n",
      " 118.2958794  131.72078071  99.31981438 114.04580547  98.22725625\n",
      " 122.69533706  87.12392839 171.21667998  94.37716553 134.83974577\n",
      " 140.89739613 148.44966264 149.67692189] [3.8310e+01 5.7810e+01 1.7195e+02 6.3040e+01 1.6084e+02 1.3515e+02\n",
      " 2.9296e+02 1.1212e+02 3.5250e+01 1.3841e+02 1.0146e+02 1.0560e+01\n",
      " 1.1050e+01 2.0000e-02 5.5570e+01 1.7670e+02 6.0020e+01 4.5840e+01\n",
      " 1.0420e+01 3.1778e+02 1.5643e+02 3.2960e+01 5.8100e+00 9.3680e+01\n",
      " 2.2550e+02 3.4236e+02 1.8036e+02 5.0900e+00 1.4020e+01 1.1238e+02\n",
      " 5.6980e+01 3.6600e+00 1.8254e+02 2.9100e+01 2.1400e+01 8.0680e+01\n",
      " 2.5833e+02 2.7240e+01]\n",
      "[ 85.6995316  135.56194541  96.49203489  84.8624055  109.29860024\n",
      "  78.56545706  99.53358028 161.22143418 134.40230202  87.71351866\n",
      "  73.90092702  93.60232319 154.62045076  82.78714752  82.49873011\n",
      "  81.30832139 110.54961041  98.56435318  99.06201983 103.22970346\n",
      "  92.03233983 173.9359881  170.16135213 173.45294971  70.46212066\n",
      " 170.30560968 161.99410427  78.67559071  93.4164398   91.82212636\n",
      "  80.46090655  90.54813389 163.51479062 107.13402073  77.65439184\n",
      " 134.11548461 153.20196529 157.95574279] [294.06 160.53  65.   442.95  44.1    7.11 160.57  41.25 135.93  42.12\n",
      "   3.7    1.29   1.53 457.62  75.59  90.63  13.86  33.32 196.93   7.47\n",
      " 274.67 656.85  57.47 310.72 245.48  23.67 348.42 260.07  11.32  86.48\n",
      " 214.02 104.55  14.79 347.69  35.13  26.87  11.75 194.7 ]\n",
      "[104.37747109 124.71362502 126.75050494  88.20186139 138.25522036\n",
      " 123.77294976 220.34555925 129.90899854 113.83443263  96.22965019\n",
      " 163.97494555 150.12394479 122.90735649  91.96938938 118.52874915\n",
      " 113.93160601  99.53089161 130.90580113  96.84072902 131.45144783\n",
      " 123.97336093 140.16254597 120.74790282 120.8394591  124.22055837\n",
      " 130.03634815 138.75520438 137.07426192 152.05111272 142.70502856\n",
      " 108.60059598 117.01377211 110.16271661  98.59342566 157.85839404\n",
      "  83.1248584   92.53027661  97.62712347] [171.85   1.58  27.67 376.45 328.29  23.44   8.56 172.29   1.23 244.21\n",
      "  78.28  11.31 236.09 200.26 161.87  18.07   1.31   1.41  46.95  10.47\n",
      "   3.44  11.35 300.61 247.48 119.92 321.61   7.94 267.62  23.71 305.79\n",
      " 215.47   4.89   4.78  20.45  12.     7.23  21.85  37.69]\n"
     ]
    }
   ],
   "source": [
    "from sklearn.model_selection import KFold\n",
    "from sklearn.linear_model import LinearRegression as lr\n",
    "from sklearn.metrics import accuracy_score\n",
    "model = lr()\n",
    "kf = KFold(n_splits=5)\n",
    "count = 1\n",
    "for train_index, test_index in kf.split(features):\n",
    "    X_train, X_test = features[train_index], features[test_index]\n",
    "    Y_train, Y_test = y[train_index], y[test_index]\n",
    "    model = model.fit(X_train, Y_train)\n",
    "    predictions = model.predict(X_test)\n",
    "    index = 0\n",
    "    err = 0\n",
    "    for item in predictions:\n",
    "        if item != Y_test[index]:\n",
    "            err +=1\n",
    "        index +=1\n",
    "    print(f'Accuracy:{round((err/index)*100, 2)}%')\n",
    "    \n"
   ]
  },
  {
   "cell_type": "code",
   "execution_count": null,
   "id": "f4ec6989",
   "metadata": {},
   "outputs": [],
   "source": []
  }
 ],
 "metadata": {
  "kernelspec": {
   "display_name": "Python 3 (ipykernel)",
   "language": "python",
   "name": "python3"
  },
  "language_info": {
   "codemirror_mode": {
    "name": "ipython",
    "version": 3
   },
   "file_extension": ".py",
   "mimetype": "text/x-python",
   "name": "python",
   "nbconvert_exporter": "python",
   "pygments_lexer": "ipython3",
   "version": "3.10.4"
  },
  "vscode": {
   "interpreter": {
    "hash": "aee8b7b246df8f9039afb4144a1f6fd8d2ca17a180786b69acc140d282b71a49"
   }
  }
 },
 "nbformat": 4,
 "nbformat_minor": 5
}
