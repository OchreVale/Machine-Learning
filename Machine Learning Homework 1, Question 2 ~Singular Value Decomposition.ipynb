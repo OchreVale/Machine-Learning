{
 "cells": [
  {
   "cell_type": "code",
   "execution_count": 1,
   "id": "35a7d796",
   "metadata": {},
   "outputs": [],
   "source": [
    "import matplotlib.pyplot as plt"
   ]
  },
  {
   "cell_type": "code",
   "execution_count": 2,
   "id": "97597a93",
   "metadata": {},
   "outputs": [],
   "source": [
    "img = plt.imread(\"image.jpg\")"
   ]
  },
  {
   "cell_type": "code",
   "execution_count": 3,
   "id": "6f3130fb",
   "metadata": {},
   "outputs": [
    {
     "data": {
      "text/plain": [
       "array([[[169, 169, 169],\n",
       "        [169, 169, 169],\n",
       "        [169, 169, 169],\n",
       "        ...,\n",
       "        [ 43,  43,  43],\n",
       "        [ 43,  43,  43],\n",
       "        [ 43,  43,  43]],\n",
       "\n",
       "       [[169, 169, 169],\n",
       "        [169, 169, 169],\n",
       "        [169, 169, 169],\n",
       "        ...,\n",
       "        [ 43,  43,  43],\n",
       "        [ 43,  43,  43],\n",
       "        [ 43,  43,  43]],\n",
       "\n",
       "       [[169, 169, 169],\n",
       "        [169, 169, 169],\n",
       "        [169, 169, 169],\n",
       "        ...,\n",
       "        [ 43,  43,  43],\n",
       "        [ 43,  43,  43],\n",
       "        [ 43,  43,  43]],\n",
       "\n",
       "       ...,\n",
       "\n",
       "       [[175, 175, 175],\n",
       "        [175, 175, 175],\n",
       "        [175, 175, 175],\n",
       "        ...,\n",
       "        [ 40,  40,  40],\n",
       "        [ 40,  40,  40],\n",
       "        [ 40,  40,  40]],\n",
       "\n",
       "       [[175, 175, 175],\n",
       "        [175, 175, 175],\n",
       "        [175, 175, 175],\n",
       "        ...,\n",
       "        [ 40,  40,  40],\n",
       "        [ 40,  40,  40],\n",
       "        [ 40,  40,  40]],\n",
       "\n",
       "       [[175, 175, 175],\n",
       "        [175, 175, 175],\n",
       "        [175, 175, 175],\n",
       "        ...,\n",
       "        [ 40,  40,  40],\n",
       "        [ 40,  40,  40],\n",
       "        [ 40,  40,  40]]], dtype=uint8)"
      ]
     },
     "execution_count": 3,
     "metadata": {},
     "output_type": "execute_result"
    }
   ],
   "source": [
    "img"
   ]
  },
  {
   "cell_type": "code",
   "execution_count": 4,
   "id": "c397e785",
   "metadata": {},
   "outputs": [],
   "source": [
    "import numpy as np"
   ]
  },
  {
   "cell_type": "code",
   "execution_count": 5,
   "id": "ac841756",
   "metadata": {},
   "outputs": [],
   "source": [
    "svd = np.linalg.svd(img, compute_uv = False)"
   ]
  },
  {
   "cell_type": "code",
   "execution_count": 6,
   "id": "a545a3f5",
   "metadata": {},
   "outputs": [
    {
     "data": {
      "text/plain": [
       "1440"
      ]
     },
     "execution_count": 6,
     "metadata": {},
     "output_type": "execute_result"
    }
   ],
   "source": [
    "len(svd)"
   ]
  },
  {
   "cell_type": "code",
   "execution_count": 7,
   "id": "0bf92c98",
   "metadata": {},
   "outputs": [
    {
     "data": {
      "text/plain": [
       "array([[1.13501036e+04, 1.50010943e-12, 5.76861857e-28],\n",
       "       [1.13067275e+04, 5.17000772e-13, 0.00000000e+00],\n",
       "       [1.12518521e+04, 1.72102653e-12, 0.00000000e+00],\n",
       "       ...,\n",
       "       [7.68989850e+03, 2.53403389e-13, 0.00000000e+00],\n",
       "       [7.68875185e+03, 6.38492624e-13, 6.13493136e-29],\n",
       "       [7.71788449e+03, 2.31467771e-13, 2.21430635e-29]])"
      ]
     },
     "execution_count": 7,
     "metadata": {},
     "output_type": "execute_result"
    }
   ],
   "source": [
    "svd"
   ]
  },
  {
   "cell_type": "code",
   "execution_count": 8,
   "id": "072fca80",
   "metadata": {},
   "outputs": [],
   "source": [
    "arr = np.array([[2.2, 0.4, 1.6, 2.0, 2.9, 0.8, 1.3, 1.1, 2.3], [2.1, 0.6, 2.3, 2.1, 2.8, 1.1, 1.4, 1.0, 2.6]])"
   ]
  },
  {
   "cell_type": "code",
   "execution_count": 9,
   "id": "a3847976",
   "metadata": {},
   "outputs": [
    {
     "data": {
      "text/plain": [
       "array([[2.2, 0.4, 1.6, 2. , 2.9, 0.8, 1.3, 1.1, 2.3],\n",
       "       [2.1, 0.6, 2.3, 2.1, 2.8, 1.1, 1.4, 1. , 2.6]])"
      ]
     },
     "execution_count": 9,
     "metadata": {},
     "output_type": "execute_result"
    }
   ],
   "source": [
    "arr"
   ]
  },
  {
   "cell_type": "code",
   "execution_count": 11,
   "id": "627b2147",
   "metadata": {},
   "outputs": [
    {
     "ename": "LinAlgError",
     "evalue": "Last 2 dimensions of the array must be square",
     "output_type": "error",
     "traceback": [
      "\u001b[0;31m---------------------------------------------------------------------------\u001b[0m",
      "\u001b[0;31mLinAlgError\u001b[0m                               Traceback (most recent call last)",
      "\u001b[0;32m/var/folders/xm/qvwbfqx56t56vbxky2d23msr0000gn/T/ipykernel_1416/3154261857.py\u001b[0m in \u001b[0;36m<module>\u001b[0;34m\u001b[0m\n\u001b[0;32m----> 1\u001b[0;31m \u001b[0mev\u001b[0m \u001b[0;34m=\u001b[0m \u001b[0mnp\u001b[0m\u001b[0;34m.\u001b[0m\u001b[0mlinalg\u001b[0m\u001b[0;34m.\u001b[0m\u001b[0meig\u001b[0m\u001b[0;34m(\u001b[0m\u001b[0marr\u001b[0m\u001b[0;34m)\u001b[0m\u001b[0;34m\u001b[0m\u001b[0;34m\u001b[0m\u001b[0m\n\u001b[0m",
      "\u001b[0;32m<__array_function__ internals>\u001b[0m in \u001b[0;36meig\u001b[0;34m(*args, **kwargs)\u001b[0m\n",
      "\u001b[0;32m~/opt/anaconda3/lib/python3.9/site-packages/numpy/linalg/linalg.py\u001b[0m in \u001b[0;36meig\u001b[0;34m(a)\u001b[0m\n\u001b[1;32m   1314\u001b[0m     \u001b[0ma\u001b[0m\u001b[0;34m,\u001b[0m \u001b[0mwrap\u001b[0m \u001b[0;34m=\u001b[0m \u001b[0m_makearray\u001b[0m\u001b[0;34m(\u001b[0m\u001b[0ma\u001b[0m\u001b[0;34m)\u001b[0m\u001b[0;34m\u001b[0m\u001b[0;34m\u001b[0m\u001b[0m\n\u001b[1;32m   1315\u001b[0m     \u001b[0m_assert_stacked_2d\u001b[0m\u001b[0;34m(\u001b[0m\u001b[0ma\u001b[0m\u001b[0;34m)\u001b[0m\u001b[0;34m\u001b[0m\u001b[0;34m\u001b[0m\u001b[0m\n\u001b[0;32m-> 1316\u001b[0;31m     \u001b[0m_assert_stacked_square\u001b[0m\u001b[0;34m(\u001b[0m\u001b[0ma\u001b[0m\u001b[0;34m)\u001b[0m\u001b[0;34m\u001b[0m\u001b[0;34m\u001b[0m\u001b[0m\n\u001b[0m\u001b[1;32m   1317\u001b[0m     \u001b[0m_assert_finite\u001b[0m\u001b[0;34m(\u001b[0m\u001b[0ma\u001b[0m\u001b[0;34m)\u001b[0m\u001b[0;34m\u001b[0m\u001b[0;34m\u001b[0m\u001b[0m\n\u001b[1;32m   1318\u001b[0m     \u001b[0mt\u001b[0m\u001b[0;34m,\u001b[0m \u001b[0mresult_t\u001b[0m \u001b[0;34m=\u001b[0m \u001b[0m_commonType\u001b[0m\u001b[0;34m(\u001b[0m\u001b[0ma\u001b[0m\u001b[0;34m)\u001b[0m\u001b[0;34m\u001b[0m\u001b[0;34m\u001b[0m\u001b[0m\n",
      "\u001b[0;32m~/opt/anaconda3/lib/python3.9/site-packages/numpy/linalg/linalg.py\u001b[0m in \u001b[0;36m_assert_stacked_square\u001b[0;34m(*arrays)\u001b[0m\n\u001b[1;32m    201\u001b[0m         \u001b[0mm\u001b[0m\u001b[0;34m,\u001b[0m \u001b[0mn\u001b[0m \u001b[0;34m=\u001b[0m \u001b[0ma\u001b[0m\u001b[0;34m.\u001b[0m\u001b[0mshape\u001b[0m\u001b[0;34m[\u001b[0m\u001b[0;34m-\u001b[0m\u001b[0;36m2\u001b[0m\u001b[0;34m:\u001b[0m\u001b[0;34m]\u001b[0m\u001b[0;34m\u001b[0m\u001b[0;34m\u001b[0m\u001b[0m\n\u001b[1;32m    202\u001b[0m         \u001b[0;32mif\u001b[0m \u001b[0mm\u001b[0m \u001b[0;34m!=\u001b[0m \u001b[0mn\u001b[0m\u001b[0;34m:\u001b[0m\u001b[0;34m\u001b[0m\u001b[0;34m\u001b[0m\u001b[0m\n\u001b[0;32m--> 203\u001b[0;31m             \u001b[0;32mraise\u001b[0m \u001b[0mLinAlgError\u001b[0m\u001b[0;34m(\u001b[0m\u001b[0;34m'Last 2 dimensions of the array must be square'\u001b[0m\u001b[0;34m)\u001b[0m\u001b[0;34m\u001b[0m\u001b[0;34m\u001b[0m\u001b[0m\n\u001b[0m\u001b[1;32m    204\u001b[0m \u001b[0;34m\u001b[0m\u001b[0m\n\u001b[1;32m    205\u001b[0m \u001b[0;32mdef\u001b[0m \u001b[0m_assert_finite\u001b[0m\u001b[0;34m(\u001b[0m\u001b[0;34m*\u001b[0m\u001b[0marrays\u001b[0m\u001b[0;34m)\u001b[0m\u001b[0;34m:\u001b[0m\u001b[0;34m\u001b[0m\u001b[0;34m\u001b[0m\u001b[0m\n",
      "\u001b[0;31mLinAlgError\u001b[0m: Last 2 dimensions of the array must be square"
     ]
    }
   ],
   "source": [
    "ev = np.linalg.eig(arr)"
   ]
  },
  {
   "cell_type": "code",
   "execution_count": 13,
   "id": "4a77fdd3",
   "metadata": {},
   "outputs": [],
   "source": [
    "arr1 = np.array([[1,2,4],[7,9,12],[4,5,23]])\n",
    "ev = np.linalg.eig(arr1)"
   ]
  },
  {
   "cell_type": "code",
   "execution_count": 14,
   "id": "2981ea6f",
   "metadata": {},
   "outputs": [
    {
     "data": {
      "text/plain": [
       "(array([27.46485091, -0.50068391,  6.03583299]),\n",
       " array([[-0.16440298, -0.81392155, -0.12941822],\n",
       "        [-0.5805685 ,  0.58078193, -0.94244746],\n",
       "        [-0.79744083,  0.01496878,  0.3082916 ]]))"
      ]
     },
     "execution_count": 14,
     "metadata": {},
     "output_type": "execute_result"
    }
   ],
   "source": [
    "ev"
   ]
  },
  {
   "cell_type": "code",
   "execution_count": 16,
   "id": "b3782efa",
   "metadata": {},
   "outputs": [],
   "source": [
    "cov = np.cov(arr)"
   ]
  },
  {
   "cell_type": "code",
   "execution_count": 17,
   "id": "66f11986",
   "metadata": {},
   "outputs": [
    {
     "data": {
      "text/plain": [
       "array([[0.63944444, 0.58555556],\n",
       "       [0.58555556, 0.59944444]])"
      ]
     },
     "execution_count": 17,
     "metadata": {},
     "output_type": "execute_result"
    }
   ],
   "source": [
    "cov"
   ]
  },
  {
   "cell_type": "code",
   "execution_count": 18,
   "id": "d57f2b82",
   "metadata": {},
   "outputs": [],
   "source": [
    "ev = np.linalg.eig(cov)"
   ]
  },
  {
   "cell_type": "code",
   "execution_count": 19,
   "id": "9a4715a0",
   "metadata": {},
   "outputs": [
    {
     "data": {
      "text/plain": [
       "(array([1.20534146, 0.03354743]),\n",
       " array([[ 0.7190743, -0.6949332],\n",
       "        [ 0.6949332,  0.7190743]]))"
      ]
     },
     "execution_count": 19,
     "metadata": {},
     "output_type": "execute_result"
    }
   ],
   "source": [
    "ev"
   ]
  },
  {
   "cell_type": "code",
   "execution_count": null,
   "id": "d260be48",
   "metadata": {},
   "outputs": [],
   "source": []
  }
 ],
 "metadata": {
  "kernelspec": {
   "display_name": "Python 3 (ipykernel)",
   "language": "python",
   "name": "python3"
  },
  "language_info": {
   "codemirror_mode": {
    "name": "ipython",
    "version": 3
   },
   "file_extension": ".py",
   "mimetype": "text/x-python",
   "name": "python",
   "nbconvert_exporter": "python",
   "pygments_lexer": "ipython3",
   "version": "3.9.7"
  }
 },
 "nbformat": 4,
 "nbformat_minor": 5
}
