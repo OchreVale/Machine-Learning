{
 "cells": [
  {
   "cell_type": "code",
   "execution_count": 1,
   "id": "35a7d796",
   "metadata": {},
   "outputs": [],
   "source": [
    "import matplotlib.pyplot as plt"
   ]
  },
  {
   "cell_type": "code",
   "execution_count": 2,
   "id": "97597a93",
   "metadata": {},
   "outputs": [],
   "source": [
    "img = plt.imread(\"image.jpg\")"
   ]
  },
  {
   "cell_type": "code",
   "execution_count": 3,
   "id": "6f3130fb",
   "metadata": {},
   "outputs": [
    {
     "data": {
      "text/plain": [
       "array([[[169, 169, 169],\n",
       "        [169, 169, 169],\n",
       "        [169, 169, 169],\n",
       "        ...,\n",
       "        [ 43,  43,  43],\n",
       "        [ 43,  43,  43],\n",
       "        [ 43,  43,  43]],\n",
       "\n",
       "       [[169, 169, 169],\n",
       "        [169, 169, 169],\n",
       "        [169, 169, 169],\n",
       "        ...,\n",
       "        [ 43,  43,  43],\n",
       "        [ 43,  43,  43],\n",
       "        [ 43,  43,  43]],\n",
       "\n",
       "       [[169, 169, 169],\n",
       "        [169, 169, 169],\n",
       "        [169, 169, 169],\n",
       "        ...,\n",
       "        [ 43,  43,  43],\n",
       "        [ 43,  43,  43],\n",
       "        [ 43,  43,  43]],\n",
       "\n",
       "       ...,\n",
       "\n",
       "       [[175, 175, 175],\n",
       "        [175, 175, 175],\n",
       "        [175, 175, 175],\n",
       "        ...,\n",
       "        [ 40,  40,  40],\n",
       "        [ 40,  40,  40],\n",
       "        [ 40,  40,  40]],\n",
       "\n",
       "       [[175, 175, 175],\n",
       "        [175, 175, 175],\n",
       "        [175, 175, 175],\n",
       "        ...,\n",
       "        [ 40,  40,  40],\n",
       "        [ 40,  40,  40],\n",
       "        [ 40,  40,  40]],\n",
       "\n",
       "       [[175, 175, 175],\n",
       "        [175, 175, 175],\n",
       "        [175, 175, 175],\n",
       "        ...,\n",
       "        [ 40,  40,  40],\n",
       "        [ 40,  40,  40],\n",
       "        [ 40,  40,  40]]], dtype=uint8)"
      ]
     },
     "execution_count": 3,
     "metadata": {},
     "output_type": "execute_result"
    }
   ],
   "source": [
    "img"
   ]
  },
  {
   "cell_type": "code",
   "execution_count": 4,
   "id": "c397e785",
   "metadata": {},
   "outputs": [],
   "source": [
    "import numpy as np"
   ]
  },
  {
   "cell_type": "code",
   "execution_count": 9,
   "id": "ac841756",
   "metadata": {},
   "outputs": [],
   "source": [
    "svd = np.linalg.svd(img, compute_uv = False)"
   ]
  },
  {
   "cell_type": "code",
   "execution_count": 10,
   "id": "a545a3f5",
   "metadata": {},
   "outputs": [
    {
     "data": {
      "text/plain": [
       "1440"
      ]
     },
     "execution_count": 10,
     "metadata": {},
     "output_type": "execute_result"
    }
   ],
   "source": [
    "len(svd)"
   ]
  },
  {
   "cell_type": "code",
   "execution_count": 11,
   "id": "0bf92c98",
   "metadata": {},
   "outputs": [
    {
     "data": {
      "text/plain": [
       "array([[1.13501036e+04, 1.50010943e-12, 5.76861857e-28],\n",
       "       [1.13067275e+04, 5.17000772e-13, 0.00000000e+00],\n",
       "       [1.12518521e+04, 1.72102653e-12, 0.00000000e+00],\n",
       "       ...,\n",
       "       [7.68989850e+03, 2.53403389e-13, 0.00000000e+00],\n",
       "       [7.68875185e+03, 6.38492624e-13, 6.13493136e-29],\n",
       "       [7.71788449e+03, 2.31467771e-13, 2.21430635e-29]])"
      ]
     },
     "execution_count": 11,
     "metadata": {},
     "output_type": "execute_result"
    }
   ],
   "source": [
    "svd"
   ]
  },
  {
   "cell_type": "code",
   "execution_count": null,
   "id": "072fca80",
   "metadata": {},
   "outputs": [],
   "source": []
  }
 ],
 "metadata": {
  "kernelspec": {
   "display_name": "Python 3 (ipykernel)",
   "language": "python",
   "name": "python3"
  },
  "language_info": {
   "codemirror_mode": {
    "name": "ipython",
    "version": 3
   },
   "file_extension": ".py",
   "mimetype": "text/x-python",
   "name": "python",
   "nbconvert_exporter": "python",
   "pygments_lexer": "ipython3",
   "version": "3.9.7"
  }
 },
 "nbformat": 4,
 "nbformat_minor": 5
}
