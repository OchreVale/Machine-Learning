{
 "cells": [
  {
   "cell_type": "code",
   "execution_count": 1,
   "id": "3081a497",
   "metadata": {},
   "outputs": [
    {
     "ename": "ModuleNotFoundError",
     "evalue": "No module named 'numpy'",
     "output_type": "error",
     "traceback": [
      "\u001b[0;31m---------------------------------------------------------------------------\u001b[0m",
      "\u001b[0;31mModuleNotFoundError\u001b[0m                       Traceback (most recent call last)",
      "Input \u001b[0;32mIn [1]\u001b[0m, in \u001b[0;36m<cell line: 1>\u001b[0;34m()\u001b[0m\n\u001b[0;32m----> 1\u001b[0m \u001b[38;5;28;01mimport\u001b[39;00m \u001b[38;5;21;01mnumpy\u001b[39;00m \u001b[38;5;28;01mas\u001b[39;00m \u001b[38;5;21;01mnp\u001b[39;00m\n\u001b[1;32m      2\u001b[0m \u001b[38;5;28;01mclass\u001b[39;00m \u001b[38;5;21;01mANN\u001b[39;00m:\n\u001b[1;32m      3\u001b[0m     \u001b[38;5;28;01mdef\u001b[39;00m \u001b[38;5;21m__init__\u001b[39m(\u001b[38;5;28mself\u001b[39m, learning_rate, features, output):\n",
      "\u001b[0;31mModuleNotFoundError\u001b[0m: No module named 'numpy'"
     ]
    }
   ],
   "source": [
    "import numpy as np\n",
    "class ANN:\n",
    "    def __init__(self, learning_rate, features, output):\n",
    "        self.lr = learning_rate\n",
    "        self.weight = 1\n",
    "    def forward(self):\n",
    "        for i in len(features):\n",
    "            instance = features[i]\n",
    "            curr =  instance* self.weight\n",
    "            error = output[i]-curr\n",
    "            self.weight -= self.lr * instance * error\n",
    "        return \n",
    "    def error(input, output):\n",
    "        return np.subtract(output, input)\n",
    "    def predict(self, test):\n",
    "        output = []\n",
    "        for i in test:\n",
    "            result = self.weight* test[i]\n",
    "            output.append(result)"
   ]
  },
  {
   "cell_type": "code",
   "execution_count": null,
   "id": "361f83a3",
   "metadata": {},
   "outputs": [],
   "source": []
  }
 ],
 "metadata": {
  "kernelspec": {
   "display_name": "Python 3 (ipykernel)",
   "language": "python",
   "name": "python3"
  },
  "language_info": {
   "codemirror_mode": {
    "name": "ipython",
    "version": 3
   },
   "file_extension": ".py",
   "mimetype": "text/x-python",
   "name": "python",
   "nbconvert_exporter": "python",
   "pygments_lexer": "ipython3",
   "version": "3.10.6"
  }
 },
 "nbformat": 4,
 "nbformat_minor": 5
}
