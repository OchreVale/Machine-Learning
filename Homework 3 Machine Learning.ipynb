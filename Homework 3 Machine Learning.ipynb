{
 "cells": [
  {
   "cell_type": "code",
   "execution_count": 1,
   "id": "64a3093e",
   "metadata": {},
   "outputs": [],
   "source": [
    "import numpy as np\n",
    "import pandas as pd"
   ]
  },
  {
   "cell_type": "code",
   "execution_count": 2,
   "id": "f1bb87f5",
   "metadata": {},
   "outputs": [],
   "source": [
    "data = pd.read_csv(\"homework.csv\")"
   ]
  },
  {
   "cell_type": "code",
   "execution_count": 3,
   "id": "eed83947",
   "metadata": {},
   "outputs": [
    {
     "data": {
      "text/html": [
       "<div>\n",
       "<style scoped>\n",
       "    .dataframe tbody tr th:only-of-type {\n",
       "        vertical-align: middle;\n",
       "    }\n",
       "\n",
       "    .dataframe tbody tr th {\n",
       "        vertical-align: top;\n",
       "    }\n",
       "\n",
       "    .dataframe thead th {\n",
       "        text-align: right;\n",
       "    }\n",
       "</style>\n",
       "<table border=\"1\" class=\"dataframe\">\n",
       "  <thead>\n",
       "    <tr style=\"text-align: right;\">\n",
       "      <th></th>\n",
       "      <th>X</th>\n",
       "      <th>Y</th>\n",
       "    </tr>\n",
       "  </thead>\n",
       "  <tbody>\n",
       "    <tr>\n",
       "      <th>0</th>\n",
       "      <td>0.344461</td>\n",
       "      <td>-0.648483</td>\n",
       "    </tr>\n",
       "    <tr>\n",
       "      <th>1</th>\n",
       "      <td>0.357117</td>\n",
       "      <td>1.122161</td>\n",
       "    </tr>\n",
       "    <tr>\n",
       "      <th>2</th>\n",
       "      <td>0.461714</td>\n",
       "      <td>-0.024687</td>\n",
       "    </tr>\n",
       "    <tr>\n",
       "      <th>3</th>\n",
       "      <td>0.971318</td>\n",
       "      <td>2.558952</td>\n",
       "    </tr>\n",
       "    <tr>\n",
       "      <th>4</th>\n",
       "      <td>0.975404</td>\n",
       "      <td>2.707666</td>\n",
       "    </tr>\n",
       "    <tr>\n",
       "      <th>5</th>\n",
       "      <td>1.269868</td>\n",
       "      <td>3.532343</td>\n",
       "    </tr>\n",
       "    <tr>\n",
       "      <th>6</th>\n",
       "      <td>1.418863</td>\n",
       "      <td>2.639893</td>\n",
       "    </tr>\n",
       "    <tr>\n",
       "      <th>7</th>\n",
       "      <td>1.576131</td>\n",
       "      <td>1.487547</td>\n",
       "    </tr>\n",
       "    <tr>\n",
       "      <th>8</th>\n",
       "      <td>1.711867</td>\n",
       "      <td>2.339642</td>\n",
       "    </tr>\n",
       "    <tr>\n",
       "      <th>9</th>\n",
       "      <td>1.868726</td>\n",
       "      <td>5.390802</td>\n",
       "    </tr>\n",
       "  </tbody>\n",
       "</table>\n",
       "</div>"
      ],
      "text/plain": [
       "          X         Y\n",
       "0  0.344461 -0.648483\n",
       "1  0.357117  1.122161\n",
       "2  0.461714 -0.024687\n",
       "3  0.971318  2.558952\n",
       "4  0.975404  2.707666\n",
       "5  1.269868  3.532343\n",
       "6  1.418863  2.639893\n",
       "7  1.576131  1.487547\n",
       "8  1.711867  2.339642\n",
       "9  1.868726  5.390802"
      ]
     },
     "execution_count": 3,
     "metadata": {},
     "output_type": "execute_result"
    }
   ],
   "source": [
    "data.head(10)"
   ]
  },
  {
   "cell_type": "code",
   "execution_count": 4,
   "id": "bcd5c79c",
   "metadata": {},
   "outputs": [],
   "source": [
    "X = data.loc[:,\"X\"]\n",
    "Y = data.loc[:,\"Y\"]\n",
    "x = X.to_numpy()\n",
    "y = Y.to_numpy()"
   ]
  },
  {
   "cell_type": "code",
   "execution_count": 5,
   "id": "b4969fff",
   "metadata": {},
   "outputs": [
    {
     "data": {
      "image/png": "[encoded data removed]",
      "text/plain": [
       "<Figure size 640x480 with 1 Axes>"
      ]
     },
     "metadata": {},
     "output_type": "display_data"
    }
   ],
   "source": [
    "import matplotlib.pyplot as plt\n",
    "plt.plot(x,y, 'bo')\n",
    "plt.show()"
   ]
  },
  {
   "cell_type": "code",
   "execution_count": 9,
   "id": "81a9d0e5",
   "metadata": {},
   "outputs": [],
   "source": [
    "class ANN:\n",
    "    def __init__(self,learning_rate, bias =0):\n",
    "        self.learning_rate = learning_rate\n",
    "        self.weights = 1\n",
    "        self.bias = bias\n",
    "    def fit(self, x:np.array, y:np.array, num_iterations=1000):\n",
    "        for i in range(num_iterations):\n",
    "            errors = 0;\n",
    "            temp = self.predict(x)\n",
    "            for iteration in range(len(temp)):\n",
    "                errors += (y[iteration]-temp[iteration])**2\n",
    "                if temp[iteration] != y[iteration]:\n",
    "                    self.update_weights(x[iteration], y[iteration], temp[iteration])\n",
    "            errors/=2\n",
    "            if ((i+1)%10 == 0):\n",
    "                print(f\"Iteration: {i+1},sum of squared errors: {errors}\")\n",
    "        \n",
    "        return\n",
    "    def predict(self, x:np.array):\n",
    "        return np.dot(self.weights, x)+self.bias\n",
    "    def update_weights(self, x, y, pred):\n",
    "        self.weights = self.weights+self.learning_rate*x*(y-pred)\n",
    "        "
   ]
  },
  {
   "cell_type": "code",
   "execution_count": 10,
   "id": "ae33da00",
   "metadata": {},
   "outputs": [],
   "source": [
    "model = ANN(learning_rate = 0.00009)"
   ]
  },
  {
   "cell_type": "code",
   "execution_count": 11,
   "id": "7fd80a85",
   "metadata": {},
   "outputs": [
    {
     "name": "stdout",
     "output_type": "stream",
     "text": [
      "Iteration: 10,sum of squared errors: 61.342765695810996\n",
      "Iteration: 20,sum of squared errors: 35.52409774654858\n",
      "Iteration: 30,sum of squared errors: 35.0214961862375\n",
      "Iteration: 40,sum of squared errors: 35.011712245062725\n",
      "Iteration: 50,sum of squared errors: 35.01152178503936\n",
      "Iteration: 60,sum of squared errors: 35.01151807743117\n",
      "Iteration: 70,sum of squared errors: 35.011518005256676\n",
      "Iteration: 80,sum of squared errors: 35.01151800385167\n",
      "Iteration: 90,sum of squared errors: 35.011518003824335\n",
      "Iteration: 100,sum of squared errors: 35.01151800382379\n"
     ]
    }
   ],
   "source": [
    "model.fit(x, y, num_iterations=100)"
   ]
  },
  {
   "cell_type": "code",
   "execution_count": 12,
   "id": "d30e6c24",
   "metadata": {},
   "outputs": [
    {
     "data": {
      "text/plain": [
       "1.9583925905371782"
      ]
     },
     "execution_count": 12,
     "metadata": {},
     "output_type": "execute_result"
    }
   ],
   "source": [
    "model.weights"
   ]
  },
  {
   "cell_type": "code",
   "execution_count": 13,
   "id": "230586ee",
   "metadata": {},
   "outputs": [
    {
     "data": {
      "text/plain": [
       "0"
      ]
     },
     "execution_count": 13,
     "metadata": {},
     "output_type": "execute_result"
    }
   ],
   "source": [
    "model.bias"
   ]
  },
  {
   "cell_type": "code",
   "execution_count": 14,
   "id": "868b243c",
   "metadata": {},
   "outputs": [
    {
     "data": {
      "text/plain": [
       "array([ 0.67458949,  0.69937487,  0.90421709,  1.90222161,  1.91022406,\n",
       "        2.4869004 ,  2.77869154,  3.08668291,  3.35250741,  3.65969924,\n",
       "        5.40565466,  5.42323922,  5.45408848,  6.21005272,  7.47241255,\n",
       "        7.68134489,  8.25974171,  8.59233703,  8.72632714,  9.50556074,\n",
       "        9.59150964, 10.71008715, 12.38407662, 12.6573461 , 12.83683043,\n",
       "       12.84197727, 13.29229898, 13.31124686, 13.60747227, 13.82715427,\n",
       "       13.89214829, 14.55345119, 14.77972806, 14.83952657, 14.99182406,\n",
       "       15.51452964, 15.57313594, 15.67263341, 16.1265371 , 16.62928541,\n",
       "       17.88748509, 17.93369667, 18.29125456, 18.6090782 , 18.74508659,\n",
       "       18.75174292, 18.79062859, 18.89630558, 19.00801712])"
      ]
     },
     "execution_count": 14,
     "metadata": {},
     "output_type": "execute_result"
    }
   ],
   "source": [
    "predicted = model.predict(x)\n",
    "predicted"
   ]
  },
  {
   "cell_type": "code",
   "execution_count": 15,
   "id": "83d1db21",
   "metadata": {},
   "outputs": [
    {
     "data": {
      "image/png": "[encoded data removed]",
      "text/plain": [
       "<Figure size 640x480 with 1 Axes>"
      ]
     },
     "metadata": {},
     "output_type": "display_data"
    }
   ],
   "source": [
    "plt.plot(x,y, 'bo')\n",
    "plt.plot(x,predicted)\n",
    "plt.show()"
   ]
  },
  {
   "cell_type": "code",
   "execution_count": null,
   "id": "bc99b664",
   "metadata": {},
   "outputs": [],
   "source": []
  },
  {
   "cell_type": "code",
   "execution_count": null,
   "id": "97e55a14",
   "metadata": {},
   "outputs": [],
   "source": []
  }
 ],
 "metadata": {
  "kernelspec": {
   "display_name": "local-venv-kernel",
   "language": "python",
   "name": "local-venv-kernel"
  },
  "language_info": {
   "codemirror_mode": {
    "name": "ipython",
    "version": 3
   },
   "file_extension": ".py",
   "mimetype": "text/x-python",
   "name": "python",
   "nbconvert_exporter": "python",
   "pygments_lexer": "ipython3",
   "version": "3.10.4"
  }
 },
 "nbformat": 4,
 "nbformat_minor": 5
}
